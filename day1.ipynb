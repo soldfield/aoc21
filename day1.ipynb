{
 "cells": [
  {
   "cell_type": "code",
   "execution_count": 18,
   "metadata": {},
   "outputs": [],
   "source": [
    "\n",
    "\n"
   ]
  },
  {
   "cell_type": "code",
   "execution_count": 33,
   "metadata": {},
   "outputs": [],
   "source": [
    "fn = \"data_day1_sonar_sweep.txt\"\n",
    "\n",
    "with open(fn) as f:\n",
    "    data = f.readlines()\n",
    "\n",
    "\n",
    "\n"
   ]
  },
  {
   "cell_type": "code",
   "execution_count": 64,
   "metadata": {},
   "outputs": [
    {
     "name": "stdout",
     "output_type": "stream",
     "text": [
      "1676\n"
     ]
    }
   ],
   "source": [
    "class Aoc_day1:\n",
    "    \"\"\"class for the Advent of Code Day 1\"\"\"\n",
    "    def __init__(self):\n",
    "        self.data = []\n",
    "\n",
    "    def get_data(self, input_file):\n",
    "        \"\"\"get data from text file\"\"\"\n",
    "        with open(fn) as f:\n",
    "            data = f.readlines()\n",
    "\n",
    "        self.data_file = data\n",
    "        self.data = [i.strip() for i in self.data_file]\n",
    "        self.data = [float(i) for i in self.data]\n",
    "\n",
    "    def count_increases(self):\n",
    "        \"\"\"count the number of increases\"\"\"\n",
    "        self.increases = 0\n",
    "        data = self.data\n",
    "        for i in range(1,len(data)):\n",
    "            if data[i] > data[i-1]:\n",
    "                self.increases += 1\n",
    "        return self.increases\n",
    "    \n",
    "sonar = Aoc_day1()\n",
    "sonar.get_data(fn)\n",
    "print(sonar.count_increases())\n",
    "\n"
   ]
  },
  {
   "cell_type": "code",
   "execution_count": 48,
   "metadata": {},
   "outputs": [
    {
     "ename": "TypeError",
     "evalue": "get_data() missing 1 required positional argument: 'input_file'",
     "output_type": "error",
     "traceback": [
      "\u001b[1;31m---------------------------------------------------------------------------\u001b[0m",
      "\u001b[1;31mTypeError\u001b[0m                                 Traceback (most recent call last)",
      "\u001b[1;32m~\\AppData\\Local\\Temp/ipykernel_4480/3103101024.py\u001b[0m in \u001b[0;36m<module>\u001b[1;34m\u001b[0m\n\u001b[1;32m----> 1\u001b[1;33m \u001b[0msonar\u001b[0m \u001b[1;33m=\u001b[0m \u001b[0maoc_day1\u001b[0m\u001b[1;33m.\u001b[0m\u001b[0mget_data\u001b[0m\u001b[1;33m(\u001b[0m\u001b[0mfn\u001b[0m\u001b[1;33m)\u001b[0m\u001b[1;33m\u001b[0m\u001b[1;33m\u001b[0m\u001b[0m\n\u001b[0m\u001b[0;32m      2\u001b[0m \u001b[1;33m\u001b[0m\u001b[0m\n\u001b[0;32m      3\u001b[0m \u001b[0mprint\u001b[0m\u001b[1;33m(\u001b[0m\u001b[0msonar\u001b[0m\u001b[1;33m)\u001b[0m\u001b[1;33m\u001b[0m\u001b[1;33m\u001b[0m\u001b[0m\n",
      "\u001b[1;31mTypeError\u001b[0m: get_data() missing 1 required positional argument: 'input_file'"
     ]
    }
   ],
   "source": []
  }
 ],
 "metadata": {
  "interpreter": {
   "hash": "b69d96d3f5804720c5d50949c2e22ea68d122cd71c9a0098a4e4ad1ee1abc03d"
  },
  "kernelspec": {
   "display_name": "Python 3.9.7 64-bit ('geoseer_vision': conda)",
   "language": "python",
   "name": "python3"
  },
  "language_info": {
   "codemirror_mode": {
    "name": "ipython",
    "version": 3
   },
   "file_extension": ".py",
   "mimetype": "text/x-python",
   "name": "python",
   "nbconvert_exporter": "python",
   "pygments_lexer": "ipython3",
   "version": "3.9.7"
  },
  "orig_nbformat": 4
 },
 "nbformat": 4,
 "nbformat_minor": 2
}
